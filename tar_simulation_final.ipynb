{
 "cells": [
  {
   "cell_type": "code",
   "execution_count": 1,
   "metadata": {},
   "outputs": [],
   "source": [
    "import numpy as np\n",
    "from sklearn.linear_model import LinearRegression\n",
    "import matplotlib.pyplot as plt"
   ]
  },
  {
   "cell_type": "markdown",
   "metadata": {},
   "source": [
    "# Functions for simulating TAR model"
   ]
  },
  {
   "cell_type": "code",
   "execution_count": 2,
   "metadata": {},
   "outputs": [
    {
     "data": {
      "image/png": "[encoded data removed]",
      "text/plain": [
       "<Figure size 720x432 with 1 Axes>"
      ]
     },
     "metadata": {
      "needs_background": "light"
     },
     "output_type": "display_data"
    },
    {
     "name": "stdout",
     "output_type": "stream",
     "text": [
      "Regime counts: {'Regime_1': 27, 'Regime_2': 13}\n",
      "Estimated coefficients for Regime 1: [-2. -2.]\n",
      "Estimated coefficients for Regime 2: [10.   0.5]\n"
     ]
    }
   ],
   "source": [
    "import numpy as np\n",
    "from sklearn.linear_model import LinearRegression\n",
    "import matplotlib.pyplot as plt\n",
    "\n",
    "def tar_simulation(regime_1, regime_2, N, threshold_func, seed=1, tau=0, sd=0, plot=True):\n",
    "    \"\"\"\n",
    "    Simulates a Threshold Autoregressive (TAR) model with two regimes.\n",
    "\n",
    "    Parameters:\n",
    "    - regime_1: Coefficients for the first regime [intercept, AR coefficients].\n",
    "    - regime_2: Coefficients for the second regime [intercept, AR coefficients].\n",
    "    - N: Number of observations to simulate.\n",
    "    - threshold_func: Function to determine the threshold condition.\n",
    "    - seed: Random seed for reproducibility.\n",
    "    - tau: Threshold value.\n",
    "    - sd: Standard deviation of the noise added to the process.\n",
    "    - plot: Boolean to indicate whether to plot the results.\n",
    "\n",
    "    Returns:\n",
    "    - y: Simulated time series data.\n",
    "    - coef_regime1: Estimated coefficients for regime 1.\n",
    "    - coef_regime2: Estimated coefficients for regime 2.\n",
    "    \"\"\"\n",
    "    \n",
    "    # Set random seed for reproducibility\n",
    "    np.random.seed(seed)\n",
    "    \n",
    "    # Determine AR order based on the longest regime\n",
    "    d = max(len(regime_1) - 1, len(regime_2) - 1)\n",
    "    \n",
    "    # Ensure there are enough lags for the threshold function\n",
    "    max_lag = max(d, 2)\n",
    "    \n",
    "    # Initialize time series array with zeros\n",
    "    y = np.zeros(N + max_lag, dtype=np.float64)\n",
    "    \n",
    "    # Initialize counters for each regime\n",
    "    regime_count = np.zeros(2, dtype=int)\n",
    "    \n",
    "    # Dummy variable to track which regime each observation belongs to\n",
    "    dummy = np.zeros(N, dtype=int)\n",
    "    \n",
    "    # Pre-allocate arrays for regime coefficients (reversed order for dot product)\n",
    "    regime_1_coef = np.array(regime_1[1:][::-1])\n",
    "    regime_2_coef = np.array(regime_2[1:][::-1])\n",
    "    \n",
    "    # Simulate the time series data\n",
    "    for i in range(max_lag, N + max_lag):\n",
    "        # Calculate threshold value using custom function\n",
    "        threshold_value = threshold_func(y[i-2:i][::-1])\n",
    "        \n",
    "        # Determine which regime to use based on threshold value\n",
    "        if threshold_value <= tau + 1e-8:\n",
    "            new_value = np.dot(y[i-d:i][::-1][:len(regime_1)-1], regime_1_coef) + regime_1[0]\n",
    "            regime_count[0] += 1\n",
    "            dummy[i-max_lag] = 1\n",
    "        else:\n",
    "            new_value = np.dot(y[i-d:i][::-1][:len(regime_2)-1], regime_2_coef) + regime_2[0]\n",
    "            regime_count[1] += 1\n",
    "        \n",
    "        # Add noise and update time series\n",
    "        y[i] = new_value + np.random.normal(0, sd)\n",
    "    \n",
    "    # Remove initial zero padding\n",
    "    y = y[max_lag:]\n",
    "    \n",
    "    # Prepare data matrix for OLS estimation (adding constant term)\n",
    "    X = np.column_stack([np.ones(N-d), *[y[i:N-d+i] for i in range(d)]])\n",
    "    \n",
    "    # Dependent variable for OLS estimation\n",
    "    y_dependent = y[d:]\n",
    "\n",
    "    # Estimate coefficients for both regimes using OLS\n",
    "    coef_regime1, coef_regime2 = [], []\n",
    "    \n",
    "    for regime in [0, 1]:\n",
    "        X_regime = X[dummy[d:] == regime]\n",
    "        y_regime = y_dependent[dummy[d:] == regime]\n",
    "        \n",
    "        if len(X_regime) > 0:\n",
    "            model = LinearRegression().fit(X_regime[:, :len(regime_1 if regime == 0 else regime_2)], y_regime)\n",
    "            coef = np.concatenate([[model.intercept_], model.coef_[1:][::-1]])\n",
    "            if regime == 0:\n",
    "                coef_regime1 = coef\n",
    "            else:\n",
    "                coef_regime2 = coef\n",
    "        else:\n",
    "            print(f\"No samples found for Regime {regime + 1}.\")\n",
    "    \n",
    "    # Plot results if requested\n",
    "    if plot:\n",
    "        plt.figure(figsize=(10, 6))\n",
    "        plt.scatter(X[dummy[d:] == 0, 1], y_dependent[dummy[d:] == 0], color='blue', label='Regime 1')\n",
    "        plt.scatter(X[dummy[d:] == 1, 1], y_dependent[dummy[d:] == 1], color='orange', label='Regime 2')\n",
    "        plt.axhline(y=tau, color='red', linestyle='--', label=f'Threshold (tau={tau+1e-8})')\n",
    "        plt.xlabel('y(t-1)')\n",
    "        plt.ylabel('y(t)')\n",
    "        plt.legend()\n",
    "        plt.title('TAR Model Simulation')\n",
    "        plt.show()\n",
    "    \n",
    "    print(\"Regime counts:\", dict(zip(['Regime_1', 'Regime_2'], regime_count)))\n",
    "    print(\"Estimated coefficients for Regime 1:\", coef_regime1)\n",
    "    print(\"Estimated coefficients for Regime 2:\", coef_regime2)\n",
    "    \n",
    "    return y, coef_regime1, coef_regime2, dummy\n",
    "\n",
    "# Define a custom threshold function\n",
    "def custom_threshold(y):\n",
    "    return y[0]**2 - 5 * y[1]**2\n",
    "\n",
    "# Example usage\n",
    "regime_1 = [10, 0.5]\n",
    "regime_2 = [-2, -2]\n",
    "N = 40\n",
    "\n",
    "y, coef_regime1, coef_regime2, dummy = tar_simulation(regime_1, regime_2, N, custom_threshold, tau=0, sd=0)"
   ]
  },
  {
   "cell_type": "code",
   "execution_count": null,
   "metadata": {},
   "outputs": [],
   "source": []
  }
 ],
 "metadata": {
  "kernelspec": {
   "display_name": "Python 3",
   "language": "python",
   "name": "python3"
  },
  "language_info": {
   "codemirror_mode": {
    "name": "ipython",
    "version": 3
   },
   "file_extension": ".py",
   "mimetype": "text/x-python",
   "name": "python",
   "nbconvert_exporter": "python",
   "pygments_lexer": "ipython3",
   "version": "3.8.5"
  }
 },
 "nbformat": 4,
 "nbformat_minor": 2
}
