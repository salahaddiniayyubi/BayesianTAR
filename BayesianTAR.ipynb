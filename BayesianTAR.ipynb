{
 "cells": [
  {
   "cell_type": "markdown",
   "metadata": {},
   "source": [
    "# Bayesian estimation of open loop TAR models\n"
   ]
  },
  {
   "cell_type": "code",
   "execution_count": 187,
   "metadata": {},
   "outputs": [],
   "source": [
    "import numpy as np\n",
    "import TAR\n",
    "import pandas as pd\n",
    "from scipy.special import gamma, factorial\n",
    "from scipy.stats import bernoulli"
   ]
  },
  {
   "cell_type": "code",
   "execution_count": 202,
   "metadata": {},
   "outputs": [
    {
     "name": "stdout",
     "output_type": "stream",
     "text": [
      "{'Regime_1': 24, 'Regime_2': 26}\n"
     ]
    }
   ],
   "source": [
    "\n",
    "# Generate TAR series:\n",
    "y, s = TAR.tar_simulation([2,0.9], [-2,0.5], 50, sd = 0.5)\n",
    "dat = pd.DataFrame({\"y\":[i[0] for i in y], \"s_0\":s})\n",
    "dat['x'] = dat[\"y\"].shift(1)\n",
    "dat.dropna(inplace = True)\n",
    "dat.drop(\"s_0\", axis=1, inplace = True)\n",
    "# dat"
   ]
  },
  {
   "cell_type": "code",
   "execution_count": 441,
   "metadata": {},
   "outputs": [],
   "source": [
    "# Inputs for Bayesian inference:\n",
    "def Estimate(dat, p_success):\n",
    "    \n",
    "    ## Keep the original data clean by operating on its copy rather than on itself:\n",
    "    data = dat.copy()\n",
    "    \n",
    "\n",
    "    # Define the sequence of state variables:\n",
    "    data[\"s_0\"] = [bernoulli.rvs(p_success) for i in range(len(data))]\n",
    "    # data[\"s_0\"] = s[1:]\n",
    "    n_0 = np.sum(data.s_0)\n",
    "    n = len(data)\n",
    " \n",
    "    data[\"xs_0\"] = data.x*data.s_0\n",
    "    data[\"s_1\"] = 1 - data.s_0\n",
    "    data[\"xs_1\"] = data[\"s_1\"]*data[\"x\"]\n",
    "    data[\"ys_0\"] = data.y*data.s_0\n",
    "    data[\"ys_1\"] = data.y*data.s_1\n",
    "    \n",
    "    Sxx_0, Sxx_1 = data.loc[:, [\"s_0\", \"xs_0\"]].T@data.loc[:, [\"s_0\", \"xs_0\"]], \\\n",
    "        data.loc[:, [\"s_1\", \"xs_1\"]].T@data.loc[:, [\"s_1\", \"xs_1\"]]\n",
    "    Sxy_0, Sxy_1 = data.loc[:, [\"s_0\", \"xs_0\"]].T@data.ys_0, \\\n",
    "        data.loc[:, [\"s_1\", \"xs_1\"]].T@data.ys_1\n",
    "    print(Sxx_0, Sxx_1, Sxy_0, Sxy_1)\n",
    "    delta_0, delta_1 = data.ys_0.T@data.ys_0 - Sxy_0.T@np.linalg.inv(Sxx_0)@Sxy_0, \\\n",
    "        data.ys_1.T@data.ys_1 - Sxy_1.T@np.linalg.inv(Sxx_1)@Sxy_1\n",
    "    return delta_0, delta_1, Sxx_0, Sxx_1, Sxy_0, Sxy_1, n_0, n, data\n",
    "\n",
    "def Update(delta_0, delta_1, Sxx_0, Sxx_1, Sxy_0, Sxy_1, n_0, n, data):\n",
    "    return (gamma((n_0-1-3)/2)*gamma((n - n_0 - 1 - 3)/2)*delta_0**(-(n_0 - 1 -1)/2)*delta_1**(-(n - n_0 - 1 -1)/2))/(np.linalg.det(Sxx_0.to_numpy()@Sxx_1.to_numpy())**0.5)\n",
    "    "
   ]
  },
  {
   "cell_type": "code",
   "execution_count": 477,
   "metadata": {},
   "outputs": [
    {
     "name": "stdout",
     "output_type": "stream",
     "text": [
      "            s_0       xs_0\n",
      "s_0   34.000000 -32.519509\n",
      "xs_0 -32.519509  80.981529             s_1       xs_1\n",
      "s_1   15.000000 -12.780587\n",
      "xs_1 -12.780587  33.820470 s_0    -32.302057\n",
      "xs_0    -1.766411\n",
      "dtype: float64 s_1    -12.569999\n",
      "xs_1    -9.466518\n",
      "dtype: float64\n"
     ]
    },
    {
     "data": {
      "text/plain": [
       "7.146271108706122e-19"
      ]
     },
     "execution_count": 477,
     "metadata": {},
     "output_type": "execute_result"
    }
   ],
   "source": [
    "delta_0, delta_1, Sxx_0, Sxx_1, Sxy_0, Sxy_1, n_0, n, data = Estimate(dat, 0.8)\n",
    "Update(delta_0, delta_1, Sxx_0, Sxx_1, Sxy_0, Sxy_1, n_0, n, data)"
   ]
  },
  {
   "cell_type": "code",
   "execution_count": 317,
   "metadata": {},
   "outputs": [
    {
     "name": "stdout",
     "output_type": "stream",
     "text": [
      "5.041182840546881 5.041182840546881\n"
     ]
    }
   ],
   "source": [
    "print(data.ys_1.T@data.ys_1 - Sxy_1@np.linalg.pinv(Sxx_1)@Sxy_1, delta_1)\n"
   ]
  },
  {
   "cell_type": "code",
   "execution_count": 322,
   "metadata": {},
   "outputs": [
    {
     "data": {
      "text/plain": [
       "4396440.019723648"
      ]
     },
     "execution_count": 322,
     "metadata": {},
     "output_type": "execute_result"
    }
   ],
   "source": [
    "delta_0**(11)"
   ]
  },
  {
   "cell_type": "code",
   "execution_count": 353,
   "metadata": {},
   "outputs": [
    {
     "data": {
      "text/plain": [
       "1.721210100075389e-13"
      ]
     },
     "execution_count": 353,
     "metadata": {},
     "output_type": "execute_result"
    }
   ],
   "source": []
  },
  {
   "cell_type": "code",
   "execution_count": 334,
   "metadata": {},
   "outputs": [
    {
     "data": {
      "text/plain": [
       "False"
      ]
     },
     "execution_count": 334,
     "metadata": {},
     "output_type": "execute_result"
    }
   ],
   "source": [
    "gamma((n_0-4)/2)*gamma((n-n_0-4)/2)/((np.linalg.det(Sxx_0.to_numpy()@Sxx_1.to_numpy())**(0.5))*delta_0*delta_1)"
   ]
  },
  {
   "cell_type": "code",
   "execution_count": 103,
   "metadata": {},
   "outputs": [
    {
     "data": {
      "text/plain": [
       "(            s_0        xs_0\n",
       " s_0   15.000000  -40.090014\n",
       " xs_0 -40.090014  130.694008,\n",
       "             s_1        xs_1\n",
       " s_1   34.000000   36.831539\n",
       " xs_1  36.831539  112.603060)"
      ]
     },
     "execution_count": 103,
     "metadata": {},
     "output_type": "execute_result"
    }
   ],
   "source": []
  },
  {
   "cell_type": "code",
   "execution_count": null,
   "metadata": {},
   "outputs": [],
   "source": []
  },
  {
   "cell_type": "code",
   "execution_count": 5,
   "metadata": {},
   "outputs": [],
   "source": [
    "import pystan as stan\n",
    "\n",
    "schools_code = \"\"\"\n",
    "data {\n",
    "  int<lower=0> J;         // number of schools\n",
    "  real y[J];              // estimated treatment effects\n",
    "  real<lower=0> sigma[J]; // standard error of effect estimates\n",
    "}\n",
    "parameters {\n",
    "  real mu;                // population treatment effect\n",
    "  real<lower=0> tau;      // standard deviation in treatment effects\n",
    "  vector[J] eta;          // unscaled deviation from mu by school\n",
    "}\n",
    "transformed parameters {\n",
    "  vector[J] theta = mu + tau * eta;        // school treatment effects\n",
    "}\n",
    "model {\n",
    "  target += normal_lpdf(eta | 0, 1);       // prior log-density\n",
    "  target += normal_lpdf(y | theta, sigma); // log-likelihood\n",
    "}\n",
    "\"\"\""
   ]
  },
  {
   "cell_type": "code",
   "execution_count": 6,
   "metadata": {},
   "outputs": [],
   "source": [
    "schools_data = {\"J\": 8,\n",
    "                \"y\": [28,  8, -3,  7, -1,  1, 18, 12],\n",
    "                \"sigma\": [15, 10, 16, 11,  9, 11, 10, 18]}"
   ]
  },
  {
   "cell_type": "code",
   "execution_count": 8,
   "metadata": {},
   "outputs": [
    {
     "ename": "AttributeError",
     "evalue": "module 'pystan' has no attribute 'build'",
     "output_type": "error",
     "traceback": [
      "\u001b[1;31m---------------------------------------------------------------------------\u001b[0m",
      "\u001b[1;31mAttributeError\u001b[0m                            Traceback (most recent call last)",
      "\u001b[1;32m<ipython-input-8-1bcce8cce404>\u001b[0m in \u001b[0;36m<module>\u001b[1;34m\u001b[0m\n\u001b[1;32m----> 1\u001b[1;33m \u001b[0mposterior\u001b[0m \u001b[1;33m=\u001b[0m \u001b[0mpystan\u001b[0m\u001b[1;33m.\u001b[0m\u001b[0mbuild\u001b[0m\u001b[1;33m(\u001b[0m\u001b[0mschools_code\u001b[0m\u001b[1;33m,\u001b[0m \u001b[0mdata\u001b[0m\u001b[1;33m=\u001b[0m\u001b[0mschools_data\u001b[0m\u001b[1;33m,\u001b[0m \u001b[0mrandom_seed\u001b[0m\u001b[1;33m=\u001b[0m\u001b[1;36m1\u001b[0m\u001b[1;33m)\u001b[0m\u001b[1;33m\u001b[0m\u001b[1;33m\u001b[0m\u001b[0m\n\u001b[0m",
      "\u001b[1;31mAttributeError\u001b[0m: module 'pystan' has no attribute 'build'"
     ]
    }
   ],
   "source": [
    "posterior = pystan.build(schools_code, data=schools_data, random_seed=1)"
   ]
  }
 ],
 "metadata": {
  "interpreter": {
   "hash": "edfc2c65b6ad8be0b1c86e108804c9dd97fb937a8ba289b931553fa8dcc5616d"
  },
  "kernelspec": {
   "display_name": "Python 3.8.5 ('base')",
   "language": "python",
   "name": "python3"
  },
  "language_info": {
   "codemirror_mode": {
    "name": "ipython",
    "version": 3
   },
   "file_extension": ".py",
   "mimetype": "text/x-python",
   "name": "python",
   "nbconvert_exporter": "python",
   "pygments_lexer": "ipython3",
   "version": "3.8.5"
  },
  "orig_nbformat": 4
 },
 "nbformat": 4,
 "nbformat_minor": 2
}
